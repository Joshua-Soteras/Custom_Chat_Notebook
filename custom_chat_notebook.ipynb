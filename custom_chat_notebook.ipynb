{
 "cells": [
  {
   "attachments": {},
   "cell_type": "markdown",
   "id": "398381a4",
   "metadata": {},
   "source": [
    "    Name: Joshua Soteras \n",
    "    Date: 5/23/23\n",
    "   Custom Chat Notebook\n",
    "\n",
    "\n",
    "<h3>Read Me</h3>\n",
    "I have included all my findings and research in order to understand this Final Project. \n",
    "\n",
    "- The Final Project Code can be found at the last section of this document. \n",
    "- Any notes down below are all proof of my time spent with this project (I had fun learning and diving into something new). \n",
    "- Images and all results will be within a folder and the document as requested: if images in doc aren't clearly visible, I have uploaded individual screenshots to be viewed.\n",
    "\n",
    "<h3>What I Learned and My Experiences</h3>\n",
    "\n",
    "<b>Large Language Models</b>\n",
    "- LLMs predict the sequence of words occurring in a sentence of paragraphs \n",
    "- pre-trained models, self supervised \n",
    "- language tasks tuning: read, summarize, and translate texts \n",
    "\t\n",
    "- GPT : (Generative Pre-trained Transformer) by Open AI\n",
    "    - generative AI: works by using existing data  \n",
    "    - monitors errors and specific information with the use of moderation ap\n",
    "- BERT ( Bidirectional Encoder Representations from Transformers)\n",
    "- by google trained the Encoder\n",
    "\t\n",
    "<b> Embeddings </b> \n",
    "- are vectors based, relativity of words and their meanings \n",
    "- I believe that's why OpenAi is needed in this project, we are using their already creating Embeddings to use to query the document\n",
    "\n",
    "<b> Grasping ChatGPT and OpenAi</b> \n",
    "\n",
    "- What are Transformers?\n",
    "    - neural networks architecture \n",
    "    - effective type of model to analyze complicated/intricate data: i.e. images, video, audio \n",
    "\t- there different type of neural networks for each type of data \t\t\n",
    "    - models that translate, write, etc. \n",
    "    \n",
    "- RNN (recurrent neural network: pre- transformers) \n",
    "    - sequential \n",
    "    - hard to train \n",
    "\t\t\t\n",
    "- How these things work  (example being used is languages i.e. communication) \n",
    "    - positional encoding\n",
    "        - Example : Translating from English to French\n",
    "\t\t- Instead of looking at words sequential, we are taking each word and giving them numbers (order). This stores word order rather than structure of the neural network. After training these data sets, the model learns how to interpret the words in positional encodings\n",
    "    - attention\n",
    "        - which words to pay attention to \n",
    "\t\t\t\t□ learned over data \n",
    "\t- self attention \n",
    "        - understanding the words by looking at the context of the words around the statement \n",
    "\t\t- building the underlying meaning of a language so we can build a network that can do number of task \n",
    "\t\t- naturally learn the rules of grammar, gender, tenses,  etc. \\\n",
    "\t\t- Server (waiter) vs server (computer hosting data)\n",
    "            - learns the difference by looking at the context of the surrounding words \n",
    "\n",
    "<b> Pinecone.from_texts() </b>\n",
    "- I was curious when you stated there could be better way of doing this.\n",
    "- I discovered (as seen in the next section) that the API reference is made by Langchain and not Pinecone. \n",
    "- I attempted to find an alternate way to upsert the the data into the Pincecone Index, however I had trouble understanding what values to pass in and understanding if the data I had was in correct format (vectors)/ \n",
    "\n",
    "\n",
    "<b> Experiences with the results and personal thoughts </b> \n",
    "- The questions asked have to be specific; I.e \"Who signed the Constitution?\" \n",
    "    - This shows the limitations to AI \n",
    "- There is alot to grasp and learn; I want to understand vectors and embedding better. \n",
    "- There is alot of tools to use but understanding what data to pass in is what is important. "
   ]
  },
  {
   "attachments": {},
   "cell_type": "markdown",
   "id": "83b643db",
   "metadata": {},
   "source": [
    "<h1 style=\"text-align: center;\">References to API guides for libraries used + Notes </h1>"
   ]
  },
  {
   "attachments": {},
   "cell_type": "markdown",
   "id": "08407b2e",
   "metadata": {},
   "source": [
    "<h3>References</h3>https://python.langchain.com/en/latest/modules/indexes/document_loaders/examples/pdf.html \n",
    "\n",
    "<h4>Understanding Langchain: PyPDFLoader</h4>\n",
    "\n",
    "- https://python.langchain.com/en/latest/reference/modules/document_loaders.html?highlight=PyPDfLoader()#langchain.document_loaders.PyPDFLoader\n",
    "\n",
    "<h4> Langchain:  Recursive Text_splitter </h4>\n",
    "\n",
    "- API: https://python.langchain.com/en/latest/reference/modules/text_splitter.html?highlight=text_splitter#module-langchain.text_splitter\n",
    "-  Notes:\n",
    "    -  RecursiveCharacterTextSplitter:implementation of splitting text that looks at characters \n",
    "    - recursively tries to split by different characters to find one that works \n",
    "    - chunk sizes refer to the amount of text that you can pass in: default value is 1000 token\n",
    "    - chunk overlap  the number of overlapping characters between adjacent chunks. Ideal chunk overlap should be below our chunk size\n",
    "\n",
    "<h4> Pinecone </h4> \n",
    "- https://docs.pinecone.io/docs/python-client\n",
    "- https://python.langchain.com/en/latest/modules/indexes/vectorstores/examples/pinecone.html\n",
    "    - Trying to understand the method of Pinecone.from_texts()\n",
    "    - comes from langchain api "
   ]
  },
  {
   "attachments": {},
   "cell_type": "markdown",
   "id": "c2987a6a",
   "metadata": {},
   "source": [
    "<h1 style=\"text-align: center;\">Custom Chat Notebook</h1>"
   ]
  },
  {
   "attachments": {},
   "cell_type": "markdown",
   "id": "7984506f",
   "metadata": {},
   "source": [
    "<h3>Libraries and Dependencies</h3> "
   ]
  },
  {
   "cell_type": "code",
   "execution_count": null,
   "id": "c1e50a99",
   "metadata": {
    "scrolled": true
   },
   "outputs": [],
   "source": [
    "# Using Langchain for loading pdf into chunks at character level, Loader also stores pages numbers\n",
    "from langchain.document_loaders import PyPDFLoader\n",
    "from langchain.text_splitter import RecursiveCharacterTextSplitter\n",
    "\n",
    "#Used for upserting our vector embeddings to Pinecone\n",
    "from langchain.vectorstores import Chroma, Pinecone\n",
    "from langchain.embeddings.openai import OpenAIEmbeddings\n",
    "import pinecone\n",
    "import os\n",
    "\n",
    "#Questioning and Answering Documents: using language learning models \n",
    "from langchain.llms import OpenAI\n",
    "from langchain.chains.question_answering import load_qa_chain\n",
    "\n",
    "#Keys needed to use API from OpenAi and Pinecone\n",
    "OPENAI_API_KEY = \"temp\"\n",
    "PINECONE_API_KEY = \"temp\"\n",
    "PINECONE_API_ENV = \"tepm\""
   ]
  },
  {
   "attachments": {},
   "cell_type": "markdown",
   "id": "ec23220f",
   "metadata": {},
   "source": [
    "<h3>Loading PDF and Splitting Text: Creating our Vectors</h3>"
   ]
  },
  {
   "cell_type": "code",
   "execution_count": 5,
   "id": "c4ada0d7",
   "metadata": {},
   "outputs": [
    {
     "name": "stdout",
     "output_type": "stream",
     "text": [
      "chunks: 979\n"
     ]
    }
   ],
   "source": [
    "#file Path to PDf Document: Declaration of Independence\n",
    "pdf = \"U:\\AnacondaZone\\Final\\decIndependence.pdf\"\n",
    "\n",
    "#loading Document \n",
    "loader = PyPDFLoader(pdf) #loads with pypdf and chunks at character level\n",
    "document = loader.load() #load given path as pages (load data into doc. objects): returns a list\n",
    "\n",
    "#Splitting text: recursiv splitter: splitting text by looking at characters\n",
    "recursiveSplit = RecursiveCharacterTextSplitter(chunk_size = 400 , chunk_overlap = 0)\n",
    "chunked_Text = recursiveSplit.split_documents(document) #value passed in is a list[str], returns list (chunks) \n",
    "\n",
    "#Displaying if chunks came out\n",
    "print( \"chunks: \" + str(len(chunked_Text)) )   \n"
   ]
  },
  {
   "attachments": {},
   "cell_type": "markdown",
   "id": "28d6d5cb",
   "metadata": {},
   "source": [
    "<h3> Creating our Embedding and using Pinecone</h3>"
   ]
  },
  {
   "cell_type": "code",
   "execution_count": null,
   "id": "280d29dd",
   "metadata": {},
   "outputs": [],
   "source": [
    "#creating embeddings using OpenAI API\n",
    "embeddings = OpenAIEmbeddings(openai_api_key =\"temp\")\n",
    "\n",
    "#Initialize Pinecone\n",
    "pinecone.init( api_key=PINECONE_API_KEY , environment=PINECONE_API_ENV )\n",
    "\n",
    "#Index Name is that of my Index in Pinecone\n",
    "index_name = \"primis\"\n",
    "\n",
    "#Upserting our data into our index on Pinecone\n",
    "docSearch = Pinecone.from_documents(chunked_Text, embeddings, index_name=index_name)\n",
    "\n",
    "#If there is an already exisiting index from Pinecone use this\n",
    "#docsearch = Pinecone.from_existing_index(index_name=index_name, embedding=embeddings)"
   ]
  },
  {
   "cell_type": "code",
   "execution_count": 7,
   "id": "0eac575d",
   "metadata": {},
   "outputs": [],
   "source": [
    "llm = OpenAI(temperature=0, openai_api_key=OPENAI_API_KEY)\n",
    "chain = load_qa_chain(llm)"
   ]
  },
  {
   "attachments": {},
   "cell_type": "markdown",
   "id": "43e5833c",
   "metadata": {},
   "source": [
    "<h3> Questions</h3> "
   ]
  },
  {
   "attachments": {},
   "cell_type": "markdown",
   "id": "beab2746",
   "metadata": {},
   "source": [
    "<h4> Question 1 </h4> "
   ]
  },
  {
   "cell_type": "code",
   "execution_count": 10,
   "id": "7e8c79d5",
   "metadata": {},
   "outputs": [
    {
     "data": {
      "text/plain": [
       "' This document was written on July 25, 2007.'"
      ]
     },
     "execution_count": 10,
     "metadata": {},
     "output_type": "execute_result"
    }
   ],
   "source": [
    "#Question 1 \n",
    "query = \"When was this document written?\"\n",
    "docs = docSearch.similarity_search(query)\n",
    "chain.run(input_documents=docs, question=query)"
   ]
  },
  {
   "attachments": {},
   "cell_type": "markdown",
   "id": "9b07e865",
   "metadata": {},
   "source": [
    "<h4> Question 2 </h4> "
   ]
  },
  {
   "cell_type": "code",
   "execution_count": 9,
   "id": "95aea02a",
   "metadata": {},
   "outputs": [
    {
     "data": {
      "text/plain": [
       "' The people who signed the Constitution of the United States were George Read, John Langdon, Gunning Bedford Jun, Nicholas Gilman, John Dickinson, Richard Bassett, Jaco: Broom, Nathaniel Gorham, Rufus King, James McHenry, Dan of Stthosjenifer, Danlcarroll, Wm. Saml. Johnson, Roger Sherman, John Blair, James Madison Jr., Alexander Hamilton, Wmblount, Wil: Livingston, Richd. Dobbs Spaight, David Brearley, Huwilliamson, Wm. Paterson, Jona: Dayton, J. Rutledge, Charles Cotesworth Pinckney, B F Franklin, Charles Pinckney, Thomas Mifflin, Pierce Butler, Robtmorris, Geo. Clymer, Thos. Fitzsimons, Jared Ingersoll, William Few, James Wilson, Abrbaldwin, Gouv Morris, and William Jackson.'"
      ]
     },
     "execution_count": 9,
     "metadata": {},
     "output_type": "execute_result"
    }
   ],
   "source": [
    "#Question 2 \n",
    "query = \"who signed the constitution of the united states\"\n",
    "docs = docSearch.similarity_search(query)\n",
    "chain.run(input_documents=docs, question=query)"
   ]
  },
  {
   "attachments": {},
   "cell_type": "markdown",
   "id": "681f515f",
   "metadata": {},
   "source": [
    "<h4> Question 3 </h4> "
   ]
  },
  {
   "cell_type": "code",
   "execution_count": 11,
   "id": "7ef8bfa2",
   "metadata": {},
   "outputs": [
    {
     "data": {
      "text/plain": [
       "' The index to the constitution and amendments is located on page 29.'"
      ]
     },
     "execution_count": 11,
     "metadata": {},
     "output_type": "execute_result"
    }
   ],
   "source": [
    "#Question 3\n",
    "query = \"What is the index to the constitution and amendments?\"\n",
    "docs = docSearch.similarity_search(query)\n",
    "chain.run(input_documents=docs, question=query)"
   ]
  },
  {
   "attachments": {},
   "cell_type": "markdown",
   "id": "f383a17d",
   "metadata": {},
   "source": [
    "<h4> Question 4 </h4> "
   ]
  },
  {
   "cell_type": "code",
   "execution_count": 12,
   "id": "44f5d53d",
   "metadata": {},
   "outputs": [
    {
     "data": {
      "text/plain": [
       "' The Constitution of the United States is about forming a more perfect Union, establishing Justice, insuring domestic Tranquility, providing for the common defense, promoting the general Welfare, and securing the Blessings of Liberty to ourselves and our Posterity.'"
      ]
     },
     "execution_count": 12,
     "metadata": {},
     "output_type": "execute_result"
    }
   ],
   "source": [
    "#Question 4\n",
    "query = \"What is the Constitution about?\"\n",
    "docs = docSearch.similarity_search(query)\n",
    "chain.run(input_documents=docs, question=query)"
   ]
  },
  {
   "attachments": {},
   "cell_type": "markdown",
   "id": "c4d93449",
   "metadata": {},
   "source": [
    "<h4> Question 5</h4> "
   ]
  },
  {
   "cell_type": "code",
   "execution_count": 16,
   "id": "9ae977b1",
   "metadata": {},
   "outputs": [
    {
     "data": {
      "text/plain": [
       "' Article II is about the President, Vice President, and all civil officers being removed on impeachment for and conviction of treason, bribery, or other high crimes and misdemeanors.'"
      ]
     },
     "execution_count": 16,
     "metadata": {},
     "output_type": "execute_result"
    }
   ],
   "source": [
    "#Question 5\n",
    "query = \"What is Article II about?\"\n",
    "docs = docSearch.similarity_search(query)\n",
    "chain.run(input_documents=docs, question=query)"
   ]
  },
  {
   "attachments": {},
   "cell_type": "markdown",
   "id": "369fced5",
   "metadata": {},
   "source": [
    "<h4> Question 6</h4> "
   ]
  },
  {
   "cell_type": "code",
   "execution_count": 17,
   "id": "83da7681",
   "metadata": {},
   "outputs": [
    {
     "data": {
      "text/plain": [
       "' Article I Section 1 of the Constitution of the United States of America states that all legislative powers shall be vested in a Congress of the United States, which shall consist of a Senate and House of Representatives.'"
      ]
     },
     "execution_count": 17,
     "metadata": {},
     "output_type": "execute_result"
    }
   ],
   "source": [
    "#Question 6\n",
    "query = \"What is Article I Section 1 about?\"\n",
    "docs = docSearch.similarity_search(query)\n",
    "chain.run(input_documents=docs, question=query)\n"
   ]
  },
  {
   "attachments": {},
   "cell_type": "markdown",
   "id": "a5fc0044",
   "metadata": {},
   "source": [
    "<h4> Question 7</h4> "
   ]
  },
  {
   "cell_type": "code",
   "execution_count": 20,
   "id": "0ff4dedc",
   "metadata": {},
   "outputs": [
    {
     "data": {
      "text/plain": [
       "' The House of Representatives will have the sole power of impeachment.'"
      ]
     },
     "execution_count": 20,
     "metadata": {},
     "output_type": "execute_result"
    }
   ],
   "source": [
    "#Question 7\n",
    "query = \"What is will the House of Representatives do?\"\n",
    "docs = docSearch.similarity_search(queDry)\n",
    "chain.run(input_documents=docs, question=query)"
   ]
  },
  {
   "attachments": {},
   "cell_type": "markdown",
   "id": "54a45e51",
   "metadata": {},
   "source": [
    "<h4> Question 8</h4> "
   ]
  },
  {
   "cell_type": "code",
   "execution_count": 21,
   "id": "8231aacb",
   "metadata": {},
   "outputs": [
    {
     "data": {
      "text/plain": [
       "' The Constitution of the United States was established by the people of the United States in order to form a more perfect union, establish justice, insure domestic tranquility, provide for the common defense, promote the general welfare, and secure the blessings of liberty to ourselves and our posterity. Article I of the Constitution outlines the legislative branch of the government.'"
      ]
     },
     "execution_count": 21,
     "metadata": {},
     "output_type": "execute_result"
    }
   ],
   "source": [
    "#Question 8\n",
    "query = \"Give me a summary of the Constitution of the United States?\"\n",
    "docs = docSearch.similarity_search(query)\n",
    "chain.run(input_documents=docs, question=query)\n"
   ]
  },
  {
   "attachments": {},
   "cell_type": "markdown",
   "id": "4d6cb725",
   "metadata": {},
   "source": [
    "<h4> Question 9</h4> "
   ]
  },
  {
   "cell_type": "code",
   "execution_count": 22,
   "id": "bba51395",
   "metadata": {},
   "outputs": [
    {
     "data": {
      "text/plain": [
       "' The Vice President of the United States shall be President of the Senate, but shall have no Vote, unless they be equally divided.'"
      ]
     },
     "execution_count": 22,
     "metadata": {},
     "output_type": "execute_result"
    }
   ],
   "source": [
    "#Question 9 \n",
    "query = \"What are the rules for the Vice President?\"\n",
    "docs = docSearch.similarity_search(query)\n",
    "chain.run(input_documents=docs, question=query)"
   ]
  },
  {
   "attachments": {},
   "cell_type": "markdown",
   "id": "ab94e76d",
   "metadata": {},
   "source": [
    "<h4> Question 10</h4> "
   ]
  },
  {
   "cell_type": "code",
   "execution_count": 23,
   "id": "a303b2a0",
   "metadata": {},
   "outputs": [
    {
     "data": {
      "text/plain": [
       "\" The President has the power to set taxes and duties that are uniform throughout the United States. They also have the power to appoint and remove officials from office. In the case of the President's death, resignation, or inability, the powers and duties of the office shall devolve on the Vice President.\""
      ]
     },
     "execution_count": 23,
     "metadata": {},
     "output_type": "execute_result"
    }
   ],
   "source": [
    "#Question 10\n",
    "query = \"What is the power of the President?\"\n",
    "docs = docSearch.similarity_search(query)\n",
    "chain.run(input_documents=docs, question=query)"
   ]
  },
  {
   "cell_type": "code",
   "execution_count": null,
   "id": "b6c79cd8",
   "metadata": {},
   "outputs": [],
   "source": []
  }
 ],
 "metadata": {
  "kernelspec": {
   "display_name": "Python 3 (ipykernel)",
   "language": "python",
   "name": "python3"
  },
  "language_info": {
   "codemirror_mode": {
    "name": "ipython",
    "version": 3
   },
   "file_extension": ".py",
   "mimetype": "text/x-python",
   "name": "python",
   "nbconvert_exporter": "python",
   "pygments_lexer": "ipython3",
   "version": "3.10.11"
  }
 },
 "nbformat": 4,
 "nbformat_minor": 5
}
